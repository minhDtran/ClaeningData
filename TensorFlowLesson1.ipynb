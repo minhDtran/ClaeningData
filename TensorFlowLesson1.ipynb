{
  "nbformat": 4,
  "nbformat_minor": 0,
  "metadata": {
    "colab": {
      "name": "TensorFlowLesson1.ipynb",
      "provenance": [],
      "authorship_tag": "ABX9TyNoS4Jrk4Y1QrppdOkFSkTD",
      "include_colab_link": true
    },
    "kernelspec": {
      "name": "python3",
      "display_name": "Python 3"
    },
    "accelerator": "GPU"
  },
  "cells": [
    {
      "cell_type": "markdown",
      "metadata": {
        "id": "view-in-github",
        "colab_type": "text"
      },
      "source": [
        "<a href=\"https://colab.research.google.com/github/minhDtran/ClaeningData/blob/master/TensorFlowLesson1.ipynb\" target=\"_parent\"><img src=\"https://colab.research.google.com/assets/colab-badge.svg\" alt=\"Open In Colab\"/></a>"
      ]
    },
    {
      "cell_type": "code",
      "metadata": {
        "id": "Q-j3IuL6jyWU",
        "colab_type": "code",
        "colab": {
          "base_uri": "https://localhost:8080/",
          "height": 411
        },
        "outputId": "4230183b-90e1-42d7-da47-82ba0e376d48"
      },
      "source": [
        "!pip install 'tensorflow==1.14.0'\n",
        "import tensorflow as tf\n",
        "import numpy as np\n"
      ],
      "execution_count": 4,
      "outputs": [
        {
          "output_type": "stream",
          "text": [
            "Requirement already satisfied: tensorflow==1.14.0 in /usr/local/lib/python3.6/dist-packages (1.14.0)\n",
            "Requirement already satisfied: termcolor>=1.1.0 in /usr/local/lib/python3.6/dist-packages (from tensorflow==1.14.0) (1.1.0)\n",
            "Requirement already satisfied: keras-applications>=1.0.6 in /usr/local/lib/python3.6/dist-packages (from tensorflow==1.14.0) (1.0.8)\n",
            "Requirement already satisfied: grpcio>=1.8.6 in /usr/local/lib/python3.6/dist-packages (from tensorflow==1.14.0) (1.30.0)\n",
            "Requirement already satisfied: gast>=0.2.0 in /usr/local/lib/python3.6/dist-packages (from tensorflow==1.14.0) (0.3.3)\n",
            "Requirement already satisfied: astor>=0.6.0 in /usr/local/lib/python3.6/dist-packages (from tensorflow==1.14.0) (0.8.1)\n",
            "Requirement already satisfied: six>=1.10.0 in /usr/local/lib/python3.6/dist-packages (from tensorflow==1.14.0) (1.12.0)\n",
            "Requirement already satisfied: tensorboard<1.15.0,>=1.14.0 in /usr/local/lib/python3.6/dist-packages (from tensorflow==1.14.0) (1.14.0)\n",
            "Requirement already satisfied: google-pasta>=0.1.6 in /usr/local/lib/python3.6/dist-packages (from tensorflow==1.14.0) (0.2.0)\n",
            "Requirement already satisfied: keras-preprocessing>=1.0.5 in /usr/local/lib/python3.6/dist-packages (from tensorflow==1.14.0) (1.1.2)\n",
            "Requirement already satisfied: protobuf>=3.6.1 in /usr/local/lib/python3.6/dist-packages (from tensorflow==1.14.0) (3.10.0)\n",
            "Requirement already satisfied: numpy<2.0,>=1.14.5 in /usr/local/lib/python3.6/dist-packages (from tensorflow==1.14.0) (1.18.5)\n",
            "Requirement already satisfied: tensorflow-estimator<1.15.0rc0,>=1.14.0rc0 in /usr/local/lib/python3.6/dist-packages (from tensorflow==1.14.0) (1.14.0)\n",
            "Requirement already satisfied: wheel>=0.26 in /usr/local/lib/python3.6/dist-packages (from tensorflow==1.14.0) (0.34.2)\n",
            "Requirement already satisfied: absl-py>=0.7.0 in /usr/local/lib/python3.6/dist-packages (from tensorflow==1.14.0) (0.9.0)\n",
            "Requirement already satisfied: wrapt>=1.11.1 in /usr/local/lib/python3.6/dist-packages (from tensorflow==1.14.0) (1.12.1)\n",
            "Requirement already satisfied: h5py in /usr/local/lib/python3.6/dist-packages (from keras-applications>=1.0.6->tensorflow==1.14.0) (2.10.0)\n",
            "Requirement already satisfied: markdown>=2.6.8 in /usr/local/lib/python3.6/dist-packages (from tensorboard<1.15.0,>=1.14.0->tensorflow==1.14.0) (3.2.2)\n",
            "Requirement already satisfied: werkzeug>=0.11.15 in /usr/local/lib/python3.6/dist-packages (from tensorboard<1.15.0,>=1.14.0->tensorflow==1.14.0) (1.0.1)\n",
            "Requirement already satisfied: setuptools>=41.0.0 in /usr/local/lib/python3.6/dist-packages (from tensorboard<1.15.0,>=1.14.0->tensorflow==1.14.0) (47.3.1)\n",
            "Requirement already satisfied: importlib-metadata; python_version < \"3.8\" in /usr/local/lib/python3.6/dist-packages (from markdown>=2.6.8->tensorboard<1.15.0,>=1.14.0->tensorflow==1.14.0) (1.6.1)\n",
            "Requirement already satisfied: zipp>=0.5 in /usr/local/lib/python3.6/dist-packages (from importlib-metadata; python_version < \"3.8\"->markdown>=2.6.8->tensorboard<1.15.0,>=1.14.0->tensorflow==1.14.0) (3.1.0)\n"
          ],
          "name": "stdout"
        }
      ]
    },
    {
      "cell_type": "code",
      "metadata": {
        "id": "kuxlUEb9nMqw",
        "colab_type": "code",
        "colab": {
          "base_uri": "https://localhost:8080/",
          "height": 136
        },
        "outputId": "ec9e533a-6cf6-4007-e19e-11c4a702fff0"
      },
      "source": [
        "celsius_c = np.array ([-40,-10,0,8,15,22,28], dtype = float)\n",
        "farenheit_f = np.array ([-40,14,32,46,59,72,100], dtype = float)\n",
        "\n",
        "for i,c in enumerate(celsius_c):\n",
        "\tprint (\"{} degree Celsius = {} Farenheit\".format(c,farenheit_f[i]))"
      ],
      "execution_count": 5,
      "outputs": [
        {
          "output_type": "stream",
          "text": [
            "-40.0 degree Celsius = -40.0 Farenheit\n",
            "-10.0 degree Celsius = 14.0 Farenheit\n",
            "0.0 degree Celsius = 32.0 Farenheit\n",
            "8.0 degree Celsius = 46.0 Farenheit\n",
            "15.0 degree Celsius = 59.0 Farenheit\n",
            "22.0 degree Celsius = 72.0 Farenheit\n",
            "28.0 degree Celsius = 100.0 Farenheit\n"
          ],
          "name": "stdout"
        }
      ]
    },
    {
      "cell_type": "code",
      "metadata": {
        "id": "cA_9Hn5fnr1J",
        "colab_type": "code",
        "colab": {
          "base_uri": "https://localhost:8080/",
          "height": 34
        },
        "outputId": "d1734cb0-0f20-4f3e-a549-6bbec9342d9d"
      },
      "source": [
        "l0 = tf.keras.layers.Dense(units=1,input_shape=[1])\n",
        "model = tf.keras.Sequential([l0])\n",
        "model.compile (loss = \"mean_squared_error\",optimizer = tf.keras.optimizers.Adam(0.1)) #model compile with loss function, and learning rate\n",
        "\n",
        "## loss function is mean square error\n",
        "history = model.fit (celsius_c,farenheit_f,epochs=500,verbose=False)\n",
        "print (\"Finish training the model !!\")\n"
      ],
      "execution_count": 9,
      "outputs": [
        {
          "output_type": "stream",
          "text": [
            "Finish training the model !!\n"
          ],
          "name": "stdout"
        }
      ]
    },
    {
      "cell_type": "code",
      "metadata": {
        "id": "--RuJfn4rW4k",
        "colab_type": "code",
        "colab": {
          "base_uri": "https://localhost:8080/",
          "height": 296
        },
        "outputId": "fbcab5c1-3aa5-4e17-b039-7c5ef32b3f07"
      },
      "source": [
        "import matplotlib.pyplot as plt\n",
        "plt.xlabel (\"Epochs\")\n",
        "plt.ylabel (\"Loss function\")\n",
        "plt.plot (history.history['loss'])"
      ],
      "execution_count": 10,
      "outputs": [
        {
          "output_type": "execute_result",
          "data": {
            "text/plain": [
              "[<matplotlib.lines.Line2D at 0x7fefebae96a0>]"
            ]
          },
          "metadata": {
            "tags": []
          },
          "execution_count": 10
        },
        {
          "output_type": "display_data",
          "data": {
            "image/png": "[encoded data removed]",
            "text/plain": [
              "<Figure size 432x288 with 1 Axes>"
            ]
          },
          "metadata": {
            "tags": [],
            "needs_background": "light"
          }
        }
      ]
    },
    {
      "cell_type": "code",
      "metadata": {
        "id": "RG2CE8HpsTAc",
        "colab_type": "code",
        "colab": {
          "base_uri": "https://localhost:8080/",
          "height": 34
        },
        "outputId": "b8b29289-4828-4d7a-c430-1cf4ca60dcc7"
      },
      "source": [
        "print (model.predict([100]))"
      ],
      "execution_count": 13,
      "outputs": [
        {
          "output_type": "stream",
          "text": [
            "[[226.88647]]\n"
          ],
          "name": "stdout"
        }
      ]
    },
    {
      "cell_type": "code",
      "metadata": {
        "id": "pszhlXlAs5h3",
        "colab_type": "code",
        "colab": {
          "base_uri": "https://localhost:8080/",
          "height": 34
        },
        "outputId": "662797dc-dc51-4fa8-80cf-ec6d77664bec"
      },
      "source": [
        "print (\"this is model layer {}\".format (l0.get_weights()))"
      ],
      "execution_count": 14,
      "outputs": [
        {
          "output_type": "stream",
          "text": [
            "this is model layer [array([[1.9633124]], dtype=float32), array([30.55524], dtype=float32)]\n"
          ],
          "name": "stdout"
        }
      ]
    },
    {
      "cell_type": "code",
      "metadata": {
        "id": "MLiiDr5WtKI6",
        "colab_type": "code",
        "colab": {}
      },
      "source": [
        ""
      ],
      "execution_count": null,
      "outputs": []
    },
    {
      "cell_type": "code",
      "metadata": {
        "id": "8pHVjXg4u7q8",
        "colab_type": "code",
        "colab": {
          "base_uri": "https://localhost:8080/",
          "height": 289
        },
        "outputId": "83bb8902-c83d-4083-ac71-9e90caea1e0f"
      },
      "source": [
        "l0 = tf.keras.layers.Dense (units = 4, input_shape = [1])\n",
        "l1 = tf.keras.layers.Dense (units = 4)\n",
        "l2 = tf.keras.layers.Dense (units = 1)\n",
        "\n",
        "model = tf.keras.Sequential ([l0,l1,l2])\n",
        "model.compile (loss = \"mean_squared_error\",optimizer = tf.keras.optimizers.Adam(0.1))\n",
        "model.fit (celsius_c,farenheit_f,epochs = 500, verbose = False)\n",
        "print (\"Finsihed training model \")\n",
        "print (model.predict ([100.0]))\n",
        "print (\"model predict 100 celisus is {}\".format (model.predict ([100.0])))\n",
        "print (\"l0 weight is {}\\n\".format (l0.get_weights()))\n",
        "print (\"l1 weight is {}\\n\".format (l1.get_weights()))\n",
        "print (\"l2 weight is {}\".format (l2.get_weights()))\n",
        "\n"
      ],
      "execution_count": 27,
      "outputs": [
        {
          "output_type": "stream",
          "text": [
            "Finsihed training model \n",
            "[[227.90752]]\n",
            "model predict 100 celisus is [[227.90752]]\n",
            "l0 weight is [array([[-0.33536184,  0.5617465 , -0.36239636,  0.03870892]],\n",
            "      dtype=float32), array([-2.7059762,  2.62585  , -2.545481 , -2.267077 ], dtype=float32)]\n",
            "\n",
            "l1 weight is [array([[ 0.57135874, -0.5546873 , -0.5269606 ,  1.0511324 ],\n",
            "       [-0.08472866, -0.42859152, -0.6371213 , -0.75745   ],\n",
            "       [ 0.8482709 ,  0.3374764 ,  0.73757017,  0.1227805 ],\n",
            "       [ 1.0778755 ,  0.7433807 ,  0.30549765,  1.7585922 ]],\n",
            "      dtype=float32), array([-2.6803925, -2.239259 , -2.615157 , -2.704644 ], dtype=float32)]\n",
            "\n",
            "l2 weight is [array([[-0.7273623],\n",
            "       [-0.692889 ],\n",
            "       [-0.9332548],\n",
            "       [-1.4063786]], dtype=float32), array([2.7035637], dtype=float32)]\n"
          ],
          "name": "stdout"
        }
      ]
    }
  ]
}