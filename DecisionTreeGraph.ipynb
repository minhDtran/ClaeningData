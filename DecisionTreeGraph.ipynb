{
  "nbformat": 4,
  "nbformat_minor": 0,
  "metadata": {
    "colab": {
      "name": "Copy of Untitled2.ipynb",
      "version": "0.3.2",
      "provenance": [],
      "include_colab_link": true
    },
    "kernelspec": {
      "name": "python3",
      "display_name": "Python 3"
    }
  },
  "cells": [
    {
      "cell_type": "markdown",
      "metadata": {
        "id": "view-in-github",
        "colab_type": "text"
      },
      "source": [
        "<a href=\"https://colab.research.google.com/github/minhDtran/ClaeningData/blob/master/DecisionTreeGraph.ipynb\" target=\"_parent\"><img src=\"https://colab.research.google.com/assets/colab-badge.svg\" alt=\"Open In Colab\"/></a>"
      ]
    },
    {
      "cell_type": "code",
      "metadata": {
        "id": "Bn3zmVgBytgI",
        "colab_type": "code",
        "colab": {}
      },
      "source": [
        "from sklearn.datasets import load_iris\n",
        "from sklearn import tree\n",
        "\n",
        "iris = load_iris()\n",
        "clf = tree.DecisionTreeClassifier ()\n",
        "cls = clf.fit (iris.data, iris.target)\n",
        "print (clf)\n",
        "\n",
        "tree.plot_tree (clf.fit (iris.data, iris.target))\n",
        "\n",
        "\n",
        "import graphviz "
      ],
      "execution_count": 0,
      "outputs": []
    }
  ]
}