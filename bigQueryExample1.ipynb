{
  "nbformat": 4,
  "nbformat_minor": 0,
  "metadata": {
    "colab": {
      "name": "Untitled0.ipynb",
      "provenance": [],
      "authorship_tag": "ABX9TyP/FgSOGTqoayuWIpBgi0xG",
      "include_colab_link": true
    },
    "kernelspec": {
      "name": "python3",
      "display_name": "Python 3"
    }
  },
  "cells": [
    {
      "cell_type": "markdown",
      "metadata": {
        "id": "view-in-github",
        "colab_type": "text"
      },
      "source": [
        "<a href=\"https://colab.research.google.com/github/minhDtran/ClaeningData/blob/master/bigQueryExample1.ipynb\" target=\"_parent\"><img src=\"https://colab.research.google.com/assets/colab-badge.svg\" alt=\"Open In Colab\"/></a>"
      ]
    },
    {
      "cell_type": "code",
      "metadata": {
        "id": "Uimk8-8Pk_w-",
        "colab_type": "code",
        "colab": {}
      },
      "source": [
        "from google.colab import auth\n",
        "auth.authenticate_user()\n",
        "print('Authenticated')\n"
      ],
      "execution_count": null,
      "outputs": []
    },
    {
      "cell_type": "code",
      "metadata": {
        "id": "UOf8CzVhm1a4",
        "colab_type": "code",
        "colab": {
          "base_uri": "https://localhost:8080/",
          "height": 51
        },
        "outputId": "7dbbc7ae-71c7-436e-b6e9-a3b868c1ab6f"
      },
      "source": [
        "project_id = \"ninth-physics-282816\"\n",
        "from google.cloud import bigquery\n",
        "import humanize\n",
        "client = bigquery.Client(project=project_id)\n",
        "query_job = client.query(\"\"\"\n",
        "    SELECT\n",
        "      CONCAT(\n",
        "        'https://stackoverflow.com/questions/',\n",
        "        CAST(id as STRING)) as url,\n",
        "      view_count\n",
        "    FROM `bigquery-public-data.stackoverflow.posts_questions`\n",
        "    WHERE tags like '%google-bigquery%'\n",
        "    ORDER BY view_count DESC\n",
        "    LIMIT 2\"\"\")\n",
        "\n",
        "results = query_job.result()  # Waits for job to complete.\n",
        "for row in results:\n",
        "    print(\"{} : {} views\".format(row.url, row.view_count))"
      ],
      "execution_count": 11,
      "outputs": [
        {
          "output_type": "stream",
          "text": [
            "https://stackoverflow.com/questions/22879669 : 65074 views\n",
            "https://stackoverflow.com/questions/35159967 : 63997 views\n"
          ],
          "name": "stdout"
        }
      ]
    }
  ]
}